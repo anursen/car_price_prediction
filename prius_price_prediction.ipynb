{
  "nbformat": 4,
  "nbformat_minor": 0,
  "metadata": {
    "colab": {
      "name": "prius price prediction.ipynb",
      "provenance": [],
      "mount_file_id": "10czArHFUWLAX7usr0BSzaajP9gXanfKq",
      "authorship_tag": "ABX9TyMkt9X7sReh3yGtPEUFBoEX",
      "include_colab_link": true
    },
    "kernelspec": {
      "name": "python3",
      "display_name": "Python 3"
    },
    "language_info": {
      "name": "python"
    }
  },
  "cells": [
    {
      "cell_type": "markdown",
      "metadata": {
        "id": "view-in-github",
        "colab_type": "text"
      },
      "source": [
        "<a href=\"https://colab.research.google.com/github/anursen/car_price_prediction/blob/main/prius_price_prediction.ipynb\" target=\"_parent\"><img src=\"https://colab.research.google.com/assets/colab-badge.svg\" alt=\"Open In Colab\"/></a>"
      ]
    },
    {
      "cell_type": "markdown",
      "source": [
        "#Importing The Libraries"
      ],
      "metadata": {
        "id": "qojCGsVhOv1C"
      }
    },
    {
      "cell_type": "code",
      "execution_count": null,
      "metadata": {
        "id": "QCao5v1tJ5GG"
      },
      "outputs": [],
      "source": [
        "import pandas as pd\n",
        "import matplotlib.pyplot as plt\n",
        "import numpy as np\n",
        "import seaborn as sns\n",
        "from sklearn.compose import ColumnTransformer\n",
        "from sklearn.pipeline import Pipeline\n",
        "from sklearn.impute import SimpleImputer\n",
        "from sklearn.preprocessing import StandardScaler, OneHotEncoder\n",
        "from sklearn.linear_model import LinearRegression\n",
        "from sklearn.model_selection import train_test_split, GridSearchCV"
      ]
    },
    {
      "cell_type": "markdown",
      "source": [
        "#Importing The Data"
      ],
      "metadata": {
        "id": "pMkHJqSVO5R-"
      }
    },
    {
      "cell_type": "code",
      "source": [
        "df = pd.read_csv('/content/drive/MyDrive/Colab Notebooks/data/scraper.csv')"
      ],
      "metadata": {
        "id": "cz8ig3Z0Kzm-"
      },
      "execution_count": null,
      "outputs": []
    },
    {
      "cell_type": "code",
      "source": [
        "df.shape"
      ],
      "metadata": {
        "id": "w3XPC57kK2zp",
        "colab": {
          "base_uri": "https://localhost:8080/"
        },
        "outputId": "ea36e3ba-7f94-4ec6-cdb6-a2879ace5563"
      },
      "execution_count": null,
      "outputs": [
        {
          "output_type": "execute_result",
          "data": {
            "text/plain": [
              "(1547, 11)"
            ]
          },
          "metadata": {},
          "execution_count": 82
        }
      ]
    },
    {
      "cell_type": "code",
      "source": [
        "df"
      ],
      "metadata": {
        "colab": {
          "base_uri": "https://localhost:8080/",
          "height": 424
        },
        "id": "5Ezo45PmNmm-",
        "outputId": "b01295f9-a9ae-419d-f39b-4f5516fde983"
      },
      "execution_count": null,
      "outputs": [
        {
          "output_type": "execute_result",
          "data": {
            "text/html": [
              "\n",
              "  <div id=\"df-565e624f-a32e-4165-b11c-fcd600bd709f\">\n",
              "    <div class=\"colab-df-container\">\n",
              "      <div>\n",
              "<style scoped>\n",
              "    .dataframe tbody tr th:only-of-type {\n",
              "        vertical-align: middle;\n",
              "    }\n",
              "\n",
              "    .dataframe tbody tr th {\n",
              "        vertical-align: top;\n",
              "    }\n",
              "\n",
              "    .dataframe thead th {\n",
              "        text-align: right;\n",
              "    }\n",
              "</style>\n",
              "<table border=\"1\" class=\"dataframe\">\n",
              "  <thead>\n",
              "    <tr style=\"text-align: right;\">\n",
              "      <th></th>\n",
              "      <th>Unnamed: 0</th>\n",
              "      <th>Vin</th>\n",
              "      <th>Years</th>\n",
              "      <th>Price</th>\n",
              "      <th>Make</th>\n",
              "      <th>Model</th>\n",
              "      <th>Mileage</th>\n",
              "      <th>Condition</th>\n",
              "      <th>Usage Type</th>\n",
              "      <th>Owner#</th>\n",
              "      <th>Location</th>\n",
              "    </tr>\n",
              "  </thead>\n",
              "  <tbody>\n",
              "    <tr>\n",
              "      <th>0</th>\n",
              "      <td>0</td>\n",
              "      <td>JTDKBRFU2J3597945</td>\n",
              "      <td>2018</td>\n",
              "      <td>27637</td>\n",
              "      <td>Toyota</td>\n",
              "      <td>Prius Two FWD</td>\n",
              "      <td>29801</td>\n",
              "      <td>Accident check\\nNo issues reported</td>\n",
              "      <td>NaN</td>\n",
              "      <td>2.0</td>\n",
              "      <td>CA</td>\n",
              "    </tr>\n",
              "    <tr>\n",
              "      <th>1</th>\n",
              "      <td>1</td>\n",
              "      <td>JTDKBRFU3H3046109</td>\n",
              "      <td>2017</td>\n",
              "      <td>24500</td>\n",
              "      <td>Toyota</td>\n",
              "      <td>Prius Two FWD</td>\n",
              "      <td>16565</td>\n",
              "      <td>Accident check\\nNo issues reported</td>\n",
              "      <td>NaN</td>\n",
              "      <td>1.0</td>\n",
              "      <td>CA</td>\n",
              "    </tr>\n",
              "    <tr>\n",
              "      <th>2</th>\n",
              "      <td>2</td>\n",
              "      <td>JTDKN3DU7B1380816</td>\n",
              "      <td>2011</td>\n",
              "      <td>11988</td>\n",
              "      <td>Toyota</td>\n",
              "      <td>Prius Three</td>\n",
              "      <td>94506</td>\n",
              "      <td>Accident check\\n1Accident reported</td>\n",
              "      <td>NaN</td>\n",
              "      <td>1.0</td>\n",
              "      <td>CA</td>\n",
              "    </tr>\n",
              "    <tr>\n",
              "      <th>3</th>\n",
              "      <td>3</td>\n",
              "      <td>JTDKN3DU0F0473253</td>\n",
              "      <td>2015</td>\n",
              "      <td>14199</td>\n",
              "      <td>Toyota</td>\n",
              "      <td>Prius Two</td>\n",
              "      <td>77651</td>\n",
              "      <td>Accident check\\nNo issues reported</td>\n",
              "      <td>NaN</td>\n",
              "      <td>1.0</td>\n",
              "      <td>CA</td>\n",
              "    </tr>\n",
              "    <tr>\n",
              "      <th>4</th>\n",
              "      <td>4</td>\n",
              "      <td>JTDKN3DU9A0049210</td>\n",
              "      <td>2010</td>\n",
              "      <td>6990</td>\n",
              "      <td>Toyota</td>\n",
              "      <td>Prius</td>\n",
              "      <td>141175</td>\n",
              "      <td>Accident check\\nNo issues reported</td>\n",
              "      <td>NaN</td>\n",
              "      <td>1.0</td>\n",
              "      <td>HI</td>\n",
              "    </tr>\n",
              "    <tr>\n",
              "      <th>...</th>\n",
              "      <td>...</td>\n",
              "      <td>...</td>\n",
              "      <td>...</td>\n",
              "      <td>...</td>\n",
              "      <td>...</td>\n",
              "      <td>...</td>\n",
              "      <td>...</td>\n",
              "      <td>...</td>\n",
              "      <td>...</td>\n",
              "      <td>...</td>\n",
              "      <td>...</td>\n",
              "    </tr>\n",
              "    <tr>\n",
              "      <th>1542</th>\n",
              "      <td>1542</td>\n",
              "      <td>JTDKARFU7H3043006</td>\n",
              "      <td>2017</td>\n",
              "      <td>22995</td>\n",
              "      <td>Toyota</td>\n",
              "      <td>Prius Four FWD</td>\n",
              "      <td>63442</td>\n",
              "      <td>Accident check\\nNo issues reported</td>\n",
              "      <td>NaN</td>\n",
              "      <td>2.0</td>\n",
              "      <td>OH</td>\n",
              "    </tr>\n",
              "    <tr>\n",
              "      <th>1543</th>\n",
              "      <td>1543</td>\n",
              "      <td>JTDKN3DU9F1896794</td>\n",
              "      <td>2015</td>\n",
              "      <td>19554</td>\n",
              "      <td>Toyota</td>\n",
              "      <td>Prius Four</td>\n",
              "      <td>52803</td>\n",
              "      <td>Accident check\\n1Accident reported</td>\n",
              "      <td>NaN</td>\n",
              "      <td>4.0</td>\n",
              "      <td>NY</td>\n",
              "    </tr>\n",
              "    <tr>\n",
              "      <th>1544</th>\n",
              "      <td>1544</td>\n",
              "      <td>JTDKARFU4J3065308</td>\n",
              "      <td>2018</td>\n",
              "      <td>27966</td>\n",
              "      <td>Toyota</td>\n",
              "      <td>Prius Four Touring FWD</td>\n",
              "      <td>39675</td>\n",
              "      <td>Accident check\\nNo issues reported</td>\n",
              "      <td>NaN</td>\n",
              "      <td>1.0</td>\n",
              "      <td>IL</td>\n",
              "    </tr>\n",
              "    <tr>\n",
              "      <th>1545</th>\n",
              "      <td>1545</td>\n",
              "      <td>JTDKN3DU0B1399238</td>\n",
              "      <td>2011</td>\n",
              "      <td>6995</td>\n",
              "      <td>Toyota</td>\n",
              "      <td>Prius Five</td>\n",
              "      <td>161656</td>\n",
              "      <td>Accident check\\n1Accident reported</td>\n",
              "      <td>NaN</td>\n",
              "      <td>5.0</td>\n",
              "      <td>VA</td>\n",
              "    </tr>\n",
              "    <tr>\n",
              "      <th>1546</th>\n",
              "      <td>1546</td>\n",
              "      <td>JTDKN3DUXC1542519</td>\n",
              "      <td>2012</td>\n",
              "      <td>9795</td>\n",
              "      <td>Toyota</td>\n",
              "      <td>Prius Three</td>\n",
              "      <td>145813</td>\n",
              "      <td>Accident check\\n1Accident reported</td>\n",
              "      <td>NaN</td>\n",
              "      <td>2.0</td>\n",
              "      <td>OH</td>\n",
              "    </tr>\n",
              "  </tbody>\n",
              "</table>\n",
              "<p>1547 rows × 11 columns</p>\n",
              "</div>\n",
              "      <button class=\"colab-df-convert\" onclick=\"convertToInteractive('df-565e624f-a32e-4165-b11c-fcd600bd709f')\"\n",
              "              title=\"Convert this dataframe to an interactive table.\"\n",
              "              style=\"display:none;\">\n",
              "        \n",
              "  <svg xmlns=\"http://www.w3.org/2000/svg\" height=\"24px\"viewBox=\"0 0 24 24\"\n",
              "       width=\"24px\">\n",
              "    <path d=\"M0 0h24v24H0V0z\" fill=\"none\"/>\n",
              "    <path d=\"M18.56 5.44l.94 2.06.94-2.06 2.06-.94-2.06-.94-.94-2.06-.94 2.06-2.06.94zm-11 1L8.5 8.5l.94-2.06 2.06-.94-2.06-.94L8.5 2.5l-.94 2.06-2.06.94zm10 10l.94 2.06.94-2.06 2.06-.94-2.06-.94-.94-2.06-.94 2.06-2.06.94z\"/><path d=\"M17.41 7.96l-1.37-1.37c-.4-.4-.92-.59-1.43-.59-.52 0-1.04.2-1.43.59L10.3 9.45l-7.72 7.72c-.78.78-.78 2.05 0 2.83L4 21.41c.39.39.9.59 1.41.59.51 0 1.02-.2 1.41-.59l7.78-7.78 2.81-2.81c.8-.78.8-2.07 0-2.86zM5.41 20L4 18.59l7.72-7.72 1.47 1.35L5.41 20z\"/>\n",
              "  </svg>\n",
              "      </button>\n",
              "      \n",
              "  <style>\n",
              "    .colab-df-container {\n",
              "      display:flex;\n",
              "      flex-wrap:wrap;\n",
              "      gap: 12px;\n",
              "    }\n",
              "\n",
              "    .colab-df-convert {\n",
              "      background-color: #E8F0FE;\n",
              "      border: none;\n",
              "      border-radius: 50%;\n",
              "      cursor: pointer;\n",
              "      display: none;\n",
              "      fill: #1967D2;\n",
              "      height: 32px;\n",
              "      padding: 0 0 0 0;\n",
              "      width: 32px;\n",
              "    }\n",
              "\n",
              "    .colab-df-convert:hover {\n",
              "      background-color: #E2EBFA;\n",
              "      box-shadow: 0px 1px 2px rgba(60, 64, 67, 0.3), 0px 1px 3px 1px rgba(60, 64, 67, 0.15);\n",
              "      fill: #174EA6;\n",
              "    }\n",
              "\n",
              "    [theme=dark] .colab-df-convert {\n",
              "      background-color: #3B4455;\n",
              "      fill: #D2E3FC;\n",
              "    }\n",
              "\n",
              "    [theme=dark] .colab-df-convert:hover {\n",
              "      background-color: #434B5C;\n",
              "      box-shadow: 0px 1px 3px 1px rgba(0, 0, 0, 0.15);\n",
              "      filter: drop-shadow(0px 1px 2px rgba(0, 0, 0, 0.3));\n",
              "      fill: #FFFFFF;\n",
              "    }\n",
              "  </style>\n",
              "\n",
              "      <script>\n",
              "        const buttonEl =\n",
              "          document.querySelector('#df-565e624f-a32e-4165-b11c-fcd600bd709f button.colab-df-convert');\n",
              "        buttonEl.style.display =\n",
              "          google.colab.kernel.accessAllowed ? 'block' : 'none';\n",
              "\n",
              "        async function convertToInteractive(key) {\n",
              "          const element = document.querySelector('#df-565e624f-a32e-4165-b11c-fcd600bd709f');\n",
              "          const dataTable =\n",
              "            await google.colab.kernel.invokeFunction('convertToInteractive',\n",
              "                                                     [key], {});\n",
              "          if (!dataTable) return;\n",
              "\n",
              "          const docLinkHtml = 'Like what you see? Visit the ' +\n",
              "            '<a target=\"_blank\" href=https://colab.research.google.com/notebooks/data_table.ipynb>data table notebook</a>'\n",
              "            + ' to learn more about interactive tables.';\n",
              "          element.innerHTML = '';\n",
              "          dataTable['output_type'] = 'display_data';\n",
              "          await google.colab.output.renderOutput(dataTable, element);\n",
              "          const docLink = document.createElement('div');\n",
              "          docLink.innerHTML = docLinkHtml;\n",
              "          element.appendChild(docLink);\n",
              "        }\n",
              "      </script>\n",
              "    </div>\n",
              "  </div>\n",
              "  "
            ],
            "text/plain": [
              "      Unnamed: 0                 Vin  Years  ...  Usage Type Owner# Location\n",
              "0              0   JTDKBRFU2J3597945   2018  ...         NaN    2.0       CA\n",
              "1              1   JTDKBRFU3H3046109   2017  ...         NaN    1.0       CA\n",
              "2              2   JTDKN3DU7B1380816   2011  ...         NaN    1.0       CA\n",
              "3              3   JTDKN3DU0F0473253   2015  ...         NaN    1.0       CA\n",
              "4              4   JTDKN3DU9A0049210   2010  ...         NaN    1.0       HI\n",
              "...          ...                 ...    ...  ...         ...    ...      ...\n",
              "1542        1542   JTDKARFU7H3043006   2017  ...         NaN    2.0       OH\n",
              "1543        1543   JTDKN3DU9F1896794   2015  ...         NaN    4.0       NY\n",
              "1544        1544   JTDKARFU4J3065308   2018  ...         NaN    1.0       IL\n",
              "1545        1545   JTDKN3DU0B1399238   2011  ...         NaN    5.0       VA\n",
              "1546        1546   JTDKN3DUXC1542519   2012  ...         NaN    2.0       OH\n",
              "\n",
              "[1547 rows x 11 columns]"
            ]
          },
          "metadata": {},
          "execution_count": 83
        }
      ]
    },
    {
      "cell_type": "code",
      "source": [
        "df.rename(columns={\"Unnamed: 0\": \"#\"},inplace=True)"
      ],
      "metadata": {
        "id": "q0exAFXCK7ph"
      },
      "execution_count": null,
      "outputs": []
    },
    {
      "cell_type": "code",
      "source": [
        "df.set_index('#',inplace=True)"
      ],
      "metadata": {
        "id": "ygELT8lMLTlp"
      },
      "execution_count": null,
      "outputs": []
    },
    {
      "cell_type": "code",
      "source": [
        "df.columns"
      ],
      "metadata": {
        "id": "LKzxzekXWTbT",
        "colab": {
          "base_uri": "https://localhost:8080/"
        },
        "outputId": "0c8f064f-9590-4ea8-9cc8-dc257edc27d4"
      },
      "execution_count": null,
      "outputs": [
        {
          "output_type": "execute_result",
          "data": {
            "text/plain": [
              "Index(['Vin', 'Years', 'Price', 'Make', 'Model', 'Mileage', 'Condition',\n",
              "       'Usage Type', 'Owner#', 'Location'],\n",
              "      dtype='object')"
            ]
          },
          "metadata": {},
          "execution_count": 86
        }
      ]
    },
    {
      "cell_type": "code",
      "source": [
        "df.isnull().sum()"
      ],
      "metadata": {
        "id": "TSEVqEQZaq8n",
        "colab": {
          "base_uri": "https://localhost:8080/"
        },
        "outputId": "69cba943-aee7-48b7-8ab4-3cf3dc0f4d35"
      },
      "execution_count": null,
      "outputs": [
        {
          "output_type": "execute_result",
          "data": {
            "text/plain": [
              "Vin              0\n",
              "Years            0\n",
              "Price            0\n",
              "Make             0\n",
              "Model            0\n",
              "Mileage          0\n",
              "Condition        6\n",
              "Usage Type    1372\n",
              "Owner#           6\n",
              "Location        32\n",
              "dtype: int64"
            ]
          },
          "metadata": {},
          "execution_count": 87
        }
      ]
    },
    {
      "cell_type": "markdown",
      "source": [
        "# Data Analysing"
      ],
      "metadata": {
        "id": "wlYSjRUyWykE"
      }
    },
    {
      "cell_type": "markdown",
      "source": [
        "##1/10 Vin\n",
        "We dont have any null but we have duplicates ==> drop duplicates\n",
        "\n",
        "We have 166 duplicates"
      ],
      "metadata": {
        "id": "QrpG2MAGXEjy"
      }
    },
    {
      "cell_type": "code",
      "source": [
        "df[df.groupby('Vin')['Vin'].transform('size') > 1]"
      ],
      "metadata": {
        "colab": {
          "base_uri": "https://localhost:8080/",
          "height": 455
        },
        "id": "Q7z5cqHgMSNS",
        "outputId": "4dd4b3d2-7358-4ffc-c1be-c1acebd7cd73"
      },
      "execution_count": null,
      "outputs": [
        {
          "output_type": "execute_result",
          "data": {
            "text/html": [
              "\n",
              "  <div id=\"df-574e559a-6a0a-4503-a7a0-a54fd99149f1\">\n",
              "    <div class=\"colab-df-container\">\n",
              "      <div>\n",
              "<style scoped>\n",
              "    .dataframe tbody tr th:only-of-type {\n",
              "        vertical-align: middle;\n",
              "    }\n",
              "\n",
              "    .dataframe tbody tr th {\n",
              "        vertical-align: top;\n",
              "    }\n",
              "\n",
              "    .dataframe thead th {\n",
              "        text-align: right;\n",
              "    }\n",
              "</style>\n",
              "<table border=\"1\" class=\"dataframe\">\n",
              "  <thead>\n",
              "    <tr style=\"text-align: right;\">\n",
              "      <th></th>\n",
              "      <th>Vin</th>\n",
              "      <th>Years</th>\n",
              "      <th>Price</th>\n",
              "      <th>Make</th>\n",
              "      <th>Model</th>\n",
              "      <th>Mileage</th>\n",
              "      <th>Condition</th>\n",
              "      <th>Usage Type</th>\n",
              "      <th>Owner#</th>\n",
              "      <th>Location</th>\n",
              "    </tr>\n",
              "    <tr>\n",
              "      <th>#</th>\n",
              "      <th></th>\n",
              "      <th></th>\n",
              "      <th></th>\n",
              "      <th></th>\n",
              "      <th></th>\n",
              "      <th></th>\n",
              "      <th></th>\n",
              "      <th></th>\n",
              "      <th></th>\n",
              "      <th></th>\n",
              "    </tr>\n",
              "  </thead>\n",
              "  <tbody>\n",
              "    <tr>\n",
              "      <th>0</th>\n",
              "      <td>JTDKBRFU2J3597945</td>\n",
              "      <td>2018</td>\n",
              "      <td>27637</td>\n",
              "      <td>Toyota</td>\n",
              "      <td>Prius Two FWD</td>\n",
              "      <td>29801</td>\n",
              "      <td>Accident check\\nNo issues reported</td>\n",
              "      <td>NaN</td>\n",
              "      <td>2.0</td>\n",
              "      <td>CA</td>\n",
              "    </tr>\n",
              "    <tr>\n",
              "      <th>1</th>\n",
              "      <td>JTDKBRFU3H3046109</td>\n",
              "      <td>2017</td>\n",
              "      <td>24500</td>\n",
              "      <td>Toyota</td>\n",
              "      <td>Prius Two FWD</td>\n",
              "      <td>16565</td>\n",
              "      <td>Accident check\\nNo issues reported</td>\n",
              "      <td>NaN</td>\n",
              "      <td>1.0</td>\n",
              "      <td>CA</td>\n",
              "    </tr>\n",
              "    <tr>\n",
              "      <th>2</th>\n",
              "      <td>JTDKN3DU7B1380816</td>\n",
              "      <td>2011</td>\n",
              "      <td>11988</td>\n",
              "      <td>Toyota</td>\n",
              "      <td>Prius Three</td>\n",
              "      <td>94506</td>\n",
              "      <td>Accident check\\n1Accident reported</td>\n",
              "      <td>NaN</td>\n",
              "      <td>1.0</td>\n",
              "      <td>CA</td>\n",
              "    </tr>\n",
              "    <tr>\n",
              "      <th>52</th>\n",
              "      <td>JTDKBRFU6J3079403</td>\n",
              "      <td>2018</td>\n",
              "      <td>25687</td>\n",
              "      <td>Toyota</td>\n",
              "      <td>Prius Four Touring FWD</td>\n",
              "      <td>25346</td>\n",
              "      <td>Accident check\\nNo issues reported</td>\n",
              "      <td>NaN</td>\n",
              "      <td>1.0</td>\n",
              "      <td>GA</td>\n",
              "    </tr>\n",
              "    <tr>\n",
              "      <th>99</th>\n",
              "      <td>JTDKARFU0K3081135</td>\n",
              "      <td>2019</td>\n",
              "      <td>21581</td>\n",
              "      <td>Toyota</td>\n",
              "      <td>Prius LE FWD</td>\n",
              "      <td>68816</td>\n",
              "      <td>Accident check\\n1Accident reported</td>\n",
              "      <td>NaN</td>\n",
              "      <td>2.0</td>\n",
              "      <td>CA</td>\n",
              "    </tr>\n",
              "    <tr>\n",
              "      <th>...</th>\n",
              "      <td>...</td>\n",
              "      <td>...</td>\n",
              "      <td>...</td>\n",
              "      <td>...</td>\n",
              "      <td>...</td>\n",
              "      <td>...</td>\n",
              "      <td>...</td>\n",
              "      <td>...</td>\n",
              "      <td>...</td>\n",
              "      <td>...</td>\n",
              "    </tr>\n",
              "    <tr>\n",
              "      <th>1381</th>\n",
              "      <td>JTDKARFU8G3004178</td>\n",
              "      <td>2016</td>\n",
              "      <td>21947</td>\n",
              "      <td>Toyota</td>\n",
              "      <td>Prius Four FWD</td>\n",
              "      <td>74307</td>\n",
              "      <td>Accident check\\n1Accident reported</td>\n",
              "      <td>NaN</td>\n",
              "      <td>1.0</td>\n",
              "      <td>GA</td>\n",
              "    </tr>\n",
              "    <tr>\n",
              "      <th>1382</th>\n",
              "      <td>JTDKARFU8G3004178</td>\n",
              "      <td>2016</td>\n",
              "      <td>21947</td>\n",
              "      <td>Toyota</td>\n",
              "      <td>Prius Four FWD</td>\n",
              "      <td>74307</td>\n",
              "      <td>Accident check\\n1Accident reported</td>\n",
              "      <td>NaN</td>\n",
              "      <td>1.0</td>\n",
              "      <td>GA</td>\n",
              "    </tr>\n",
              "    <tr>\n",
              "      <th>1481</th>\n",
              "      <td>JTDKN3DU7B1380816</td>\n",
              "      <td>2011</td>\n",
              "      <td>11988</td>\n",
              "      <td>Toyota</td>\n",
              "      <td>Prius Three</td>\n",
              "      <td>94506</td>\n",
              "      <td>Accident check\\n1Accident reported</td>\n",
              "      <td>NaN</td>\n",
              "      <td>1.0</td>\n",
              "      <td>CA</td>\n",
              "    </tr>\n",
              "    <tr>\n",
              "      <th>1485</th>\n",
              "      <td>JTDKN3DU6A1294458</td>\n",
              "      <td>2010</td>\n",
              "      <td>10517</td>\n",
              "      <td>Toyota</td>\n",
              "      <td>Prius</td>\n",
              "      <td>97210</td>\n",
              "      <td>Accident check\\nNo issues reported</td>\n",
              "      <td>NaN</td>\n",
              "      <td>3.0</td>\n",
              "      <td>AZ</td>\n",
              "    </tr>\n",
              "    <tr>\n",
              "      <th>1516</th>\n",
              "      <td>JTDKARFU7H3530836</td>\n",
              "      <td>2017</td>\n",
              "      <td>24999</td>\n",
              "      <td>Toyota</td>\n",
              "      <td>Prius Three FWD</td>\n",
              "      <td>39455</td>\n",
              "      <td>Accident check\\nNo issues reported</td>\n",
              "      <td>NaN</td>\n",
              "      <td>1.0</td>\n",
              "      <td>MI</td>\n",
              "    </tr>\n",
              "  </tbody>\n",
              "</table>\n",
              "<p>166 rows × 10 columns</p>\n",
              "</div>\n",
              "      <button class=\"colab-df-convert\" onclick=\"convertToInteractive('df-574e559a-6a0a-4503-a7a0-a54fd99149f1')\"\n",
              "              title=\"Convert this dataframe to an interactive table.\"\n",
              "              style=\"display:none;\">\n",
              "        \n",
              "  <svg xmlns=\"http://www.w3.org/2000/svg\" height=\"24px\"viewBox=\"0 0 24 24\"\n",
              "       width=\"24px\">\n",
              "    <path d=\"M0 0h24v24H0V0z\" fill=\"none\"/>\n",
              "    <path d=\"M18.56 5.44l.94 2.06.94-2.06 2.06-.94-2.06-.94-.94-2.06-.94 2.06-2.06.94zm-11 1L8.5 8.5l.94-2.06 2.06-.94-2.06-.94L8.5 2.5l-.94 2.06-2.06.94zm10 10l.94 2.06.94-2.06 2.06-.94-2.06-.94-.94-2.06-.94 2.06-2.06.94z\"/><path d=\"M17.41 7.96l-1.37-1.37c-.4-.4-.92-.59-1.43-.59-.52 0-1.04.2-1.43.59L10.3 9.45l-7.72 7.72c-.78.78-.78 2.05 0 2.83L4 21.41c.39.39.9.59 1.41.59.51 0 1.02-.2 1.41-.59l7.78-7.78 2.81-2.81c.8-.78.8-2.07 0-2.86zM5.41 20L4 18.59l7.72-7.72 1.47 1.35L5.41 20z\"/>\n",
              "  </svg>\n",
              "      </button>\n",
              "      \n",
              "  <style>\n",
              "    .colab-df-container {\n",
              "      display:flex;\n",
              "      flex-wrap:wrap;\n",
              "      gap: 12px;\n",
              "    }\n",
              "\n",
              "    .colab-df-convert {\n",
              "      background-color: #E8F0FE;\n",
              "      border: none;\n",
              "      border-radius: 50%;\n",
              "      cursor: pointer;\n",
              "      display: none;\n",
              "      fill: #1967D2;\n",
              "      height: 32px;\n",
              "      padding: 0 0 0 0;\n",
              "      width: 32px;\n",
              "    }\n",
              "\n",
              "    .colab-df-convert:hover {\n",
              "      background-color: #E2EBFA;\n",
              "      box-shadow: 0px 1px 2px rgba(60, 64, 67, 0.3), 0px 1px 3px 1px rgba(60, 64, 67, 0.15);\n",
              "      fill: #174EA6;\n",
              "    }\n",
              "\n",
              "    [theme=dark] .colab-df-convert {\n",
              "      background-color: #3B4455;\n",
              "      fill: #D2E3FC;\n",
              "    }\n",
              "\n",
              "    [theme=dark] .colab-df-convert:hover {\n",
              "      background-color: #434B5C;\n",
              "      box-shadow: 0px 1px 3px 1px rgba(0, 0, 0, 0.15);\n",
              "      filter: drop-shadow(0px 1px 2px rgba(0, 0, 0, 0.3));\n",
              "      fill: #FFFFFF;\n",
              "    }\n",
              "  </style>\n",
              "\n",
              "      <script>\n",
              "        const buttonEl =\n",
              "          document.querySelector('#df-574e559a-6a0a-4503-a7a0-a54fd99149f1 button.colab-df-convert');\n",
              "        buttonEl.style.display =\n",
              "          google.colab.kernel.accessAllowed ? 'block' : 'none';\n",
              "\n",
              "        async function convertToInteractive(key) {\n",
              "          const element = document.querySelector('#df-574e559a-6a0a-4503-a7a0-a54fd99149f1');\n",
              "          const dataTable =\n",
              "            await google.colab.kernel.invokeFunction('convertToInteractive',\n",
              "                                                     [key], {});\n",
              "          if (!dataTable) return;\n",
              "\n",
              "          const docLinkHtml = 'Like what you see? Visit the ' +\n",
              "            '<a target=\"_blank\" href=https://colab.research.google.com/notebooks/data_table.ipynb>data table notebook</a>'\n",
              "            + ' to learn more about interactive tables.';\n",
              "          element.innerHTML = '';\n",
              "          dataTable['output_type'] = 'display_data';\n",
              "          await google.colab.output.renderOutput(dataTable, element);\n",
              "          const docLink = document.createElement('div');\n",
              "          docLink.innerHTML = docLinkHtml;\n",
              "          element.appendChild(docLink);\n",
              "        }\n",
              "      </script>\n",
              "    </div>\n",
              "  </div>\n",
              "  "
            ],
            "text/plain": [
              "                     Vin  Years  Price  ... Usage Type Owner#  Location\n",
              "#                                       ...                            \n",
              "0      JTDKBRFU2J3597945   2018  27637  ...        NaN    2.0        CA\n",
              "1      JTDKBRFU3H3046109   2017  24500  ...        NaN    1.0        CA\n",
              "2      JTDKN3DU7B1380816   2011  11988  ...        NaN    1.0        CA\n",
              "52     JTDKBRFU6J3079403   2018  25687  ...        NaN    1.0        GA\n",
              "99     JTDKARFU0K3081135   2019  21581  ...        NaN    2.0        CA\n",
              "...                  ...    ...    ...  ...        ...    ...       ...\n",
              "1381   JTDKARFU8G3004178   2016  21947  ...        NaN    1.0        GA\n",
              "1382   JTDKARFU8G3004178   2016  21947  ...        NaN    1.0        GA\n",
              "1481   JTDKN3DU7B1380816   2011  11988  ...        NaN    1.0        CA\n",
              "1485   JTDKN3DU6A1294458   2010  10517  ...        NaN    3.0        AZ\n",
              "1516   JTDKARFU7H3530836   2017  24999  ...        NaN    1.0        MI\n",
              "\n",
              "[166 rows x 10 columns]"
            ]
          },
          "metadata": {},
          "execution_count": 88
        }
      ]
    },
    {
      "cell_type": "code",
      "source": [
        "df.drop_duplicates(inplace=True)\n",
        "df.shape"
      ],
      "metadata": {
        "id": "n4TD8DEBOfMn",
        "colab": {
          "base_uri": "https://localhost:8080/"
        },
        "outputId": "328094b2-ad4c-409d-e552-906252156875"
      },
      "execution_count": null,
      "outputs": [
        {
          "output_type": "execute_result",
          "data": {
            "text/plain": [
              "(1468, 10)"
            ]
          },
          "metadata": {},
          "execution_count": 89
        }
      ]
    },
    {
      "cell_type": "code",
      "source": [
        "#df[df.groupby('Vin')['Vin'].transform('size') > 1].index\n",
        "#df[df['Vin']==' JTDKBRFU6J3079403']\n",
        "df.drop(labels=df[df.groupby('Vin')['Vin'].transform('size') > 1].index,axis=0,inplace=True)\n",
        "df.Vin.value_counts()"
      ],
      "metadata": {
        "colab": {
          "base_uri": "https://localhost:8080/"
        },
        "id": "PDSNNb7njh9k",
        "outputId": "4be8bd6f-67e1-458f-9f1c-f5bf3d26e641"
      },
      "execution_count": null,
      "outputs": [
        {
          "output_type": "execute_result",
          "data": {
            "text/plain": [
              " JTDKARFU5J3552744    1\n",
              " JTDKN3DU6C5421673    1\n",
              " JTDKN3DU3F0419526    1\n",
              " JTDKB20U297873464    1\n",
              " JTDKN3DU5F0438336    1\n",
              "                     ..\n",
              " JTDKBRFU4G3021654    1\n",
              " JTDKN3DU8F0485019    1\n",
              " JTDKB20U387774229    1\n",
              " JTDKBRFU9H3040072    1\n",
              " JTDKB20U893542685    1\n",
              "Name: Vin, Length: 1460, dtype: int64"
            ]
          },
          "metadata": {},
          "execution_count": 90
        }
      ]
    },
    {
      "cell_type": "code",
      "source": [
        "df.shape"
      ],
      "metadata": {
        "colab": {
          "base_uri": "https://localhost:8080/"
        },
        "id": "EeAWSLeRcdZk",
        "outputId": "381e45b9-75e4-4fd2-e033-6fb32f3e2067"
      },
      "execution_count": null,
      "outputs": [
        {
          "output_type": "execute_result",
          "data": {
            "text/plain": [
              "(1460, 10)"
            ]
          },
          "metadata": {},
          "execution_count": 91
        }
      ]
    },
    {
      "cell_type": "code",
      "source": [
        "#We dont need any more these Vin numbers.\n",
        "df.drop(labels='Vin',axis='columns',inplace=True)"
      ],
      "metadata": {
        "id": "GEiCtYAepc6N"
      },
      "execution_count": null,
      "outputs": []
    },
    {
      "cell_type": "markdown",
      "source": [
        "##2/10 Years\n",
        "We have unnormalized data, the reason for this might be the lack of data.\n",
        "We might need to remove some of the data.\n"
      ],
      "metadata": {
        "id": "Zcl0jliIXNeg"
      }
    },
    {
      "cell_type": "code",
      "source": [
        "#print(df['Years'].value_counts())\n",
        "#sns.histplot(df['Years'])\n",
        "# Code to drop any values\n",
        "#df.drop(labels=['MeanOfYear'],axis=1,inplace=True)\n",
        "#df.sort_values('Years',inplace=True)\n",
        "#df['MeanOfYear'] = df.groupby('Years')['Mileage'].transform('mean')\n",
        "#print(df.groupby('Years')['Years'].transform('count'))\n",
        "print(df.Years.value_counts().sort_values())\n",
        "import random\n",
        "np.random.normal(df.Years.mode(),df.Years.std())"
      ],
      "metadata": {
        "colab": {
          "base_uri": "https://localhost:8080/"
        },
        "id": "mmLINHqVXSJ8",
        "outputId": "43cdcea9-20c2-455c-8447-ef5632c70189"
      },
      "execution_count": null,
      "outputs": [
        {
          "output_type": "stream",
          "name": "stdout",
          "text": [
            "2002      3\n",
            "2022      5\n",
            "2004     10\n",
            "2021     32\n",
            "2005     33\n",
            "2006     36\n",
            "2019     53\n",
            "2020     54\n",
            "2009     56\n",
            "2014     74\n",
            "2007     79\n",
            "2011     82\n",
            "2008     85\n",
            "2017     88\n",
            "2018     93\n",
            "2012     93\n",
            "2016     94\n",
            "2013    101\n",
            "2015    174\n",
            "2010    215\n",
            "Name: Years, dtype: int64\n"
          ]
        },
        {
          "output_type": "execute_result",
          "data": {
            "text/plain": [
              "array([2018.16813855])"
            ]
          },
          "metadata": {},
          "execution_count": 93
        }
      ]
    },
    {
      "cell_type": "markdown",
      "source": [
        "## 3/10 Price\n",
        "This is the Y feature. "
      ],
      "metadata": {
        "id": "OlFZGKU7XwHx"
      }
    },
    {
      "cell_type": "markdown",
      "source": [
        "## 4/10 Make\n",
        "We can disregard this feature, and drop it."
      ],
      "metadata": {
        "id": "5US3J_DJYVtq"
      }
    },
    {
      "cell_type": "code",
      "source": [
        "df['Make'].unique()"
      ],
      "metadata": {
        "colab": {
          "base_uri": "https://localhost:8080/"
        },
        "id": "4OQ-a59MYucE",
        "outputId": "1e1ba3db-c2b9-40a9-ed21-c263e776f91c"
      },
      "execution_count": null,
      "outputs": [
        {
          "output_type": "execute_result",
          "data": {
            "text/plain": [
              "array(['Toyota'], dtype=object)"
            ]
          },
          "metadata": {},
          "execution_count": 94
        }
      ]
    },
    {
      "cell_type": "code",
      "source": [
        "df.drop(labels=['Make'],axis=1,inplace=True)"
      ],
      "metadata": {
        "id": "0aqXXThslB3G"
      },
      "execution_count": null,
      "outputs": []
    },
    {
      "cell_type": "markdown",
      "source": [
        "##5/10 Model\n",
        "With so little data on some models \n",
        "\n",
        "⚫ we might disregard some models,\n",
        "\n",
        "⚫ we might create bins on some main models. "
      ],
      "metadata": {
        "id": "WLKZ40cTYeRC"
      }
    },
    {
      "cell_type": "code",
      "source": [
        "#print(df[\"Model\"].unique())\n",
        "print(df[\"Model\"].value_counts())"
      ],
      "metadata": {
        "colab": {
          "base_uri": "https://localhost:8080/"
        },
        "id": "sN6MsJX4YrLm",
        "outputId": "ad1fe375-aecc-45c0-ecde-820e8b33be3c"
      },
      "execution_count": null,
      "outputs": [
        {
          "output_type": "stream",
          "name": "stdout",
          "text": [
            "Prius                      360\n",
            "Prius Two                  164\n",
            "Prius Two FWD              121\n",
            "Prius Four                 106\n",
            "Prius Touring FWD           98\n",
            "Prius FWD                   96\n",
            "Prius Three                 90\n",
            "Prius Persona Series        61\n",
            "Prius Four FWD              55\n",
            "Prius LE FWD                53\n",
            "Prius One                   35\n",
            "Prius L Eco FWD             33\n",
            "Prius Three FWD             29\n",
            "Prius Five                  28\n",
            "Prius Liftback FWD          21\n",
            "Prius Two Eco FWD           19\n",
            "Prius Four Touring FWD      14\n",
            "Prius 2020 Edition FWD      12\n",
            "Prius LE AWD-e              12\n",
            "Prius Three Touring FWD     12\n",
            "Prius One FWD               11\n",
            "Prius XLE AWD-e             10\n",
            "Prius Limited FWD            8\n",
            "Prius XLE FWD                7\n",
            "Prius Persona Series SE      5\n",
            "Name: Model, dtype: int64\n"
          ]
        }
      ]
    },
    {
      "cell_type": "markdown",
      "source": [
        "##6/10 Mileage\n",
        "We need to normalize this data."
      ],
      "metadata": {
        "id": "KR8GdkuLYg5_"
      }
    },
    {
      "cell_type": "code",
      "source": [
        "df.Mileage.describe()"
      ],
      "metadata": {
        "colab": {
          "base_uri": "https://localhost:8080/"
        },
        "id": "0t-ENVBtYOTL",
        "outputId": "d98a1df0-7954-48d5-c91c-f28377232b69"
      },
      "execution_count": null,
      "outputs": [
        {
          "output_type": "execute_result",
          "data": {
            "text/plain": [
              "count      1460.000000\n",
              "mean     108002.223973\n",
              "std       52574.254495\n",
              "min        1353.000000\n",
              "25%       67574.250000\n",
              "50%      109768.000000\n",
              "75%      146369.750000\n",
              "max      274199.000000\n",
              "Name: Mileage, dtype: float64"
            ]
          },
          "metadata": {},
          "execution_count": 97
        }
      ]
    },
    {
      "cell_type": "code",
      "source": [
        "sns.histplot(df['Mileage'])"
      ],
      "metadata": {
        "colab": {
          "base_uri": "https://localhost:8080/"
        },
        "id": "dKIUW4Q3jLcb",
        "outputId": "70450788-b2b0-4b73-90f0-e6591f99119f"
      },
      "execution_count": null,
      "outputs": [
        {
          "output_type": "execute_result",
          "data": {
            "text/plain": [
              "<matplotlib.axes._subplots.AxesSubplot at 0x7f82487152d0>"
            ]
          },
          "metadata": {},
          "execution_count": 98
        },
        {
          "output_type": "display_data",
          "data": {
            "image/png": "[encoded data removed]",
            "text/plain": [
              "<Figure size 432x288 with 1 Axes>"
            ]
          },
          "metadata": {
            "needs_background": "light"
          }
        }
      ]
    },
    {
      "cell_type": "markdown",
      "source": [
        "##7/10 Condition\n",
        "\n",
        "Missing Value Condition 6\n",
        "\n",
        "We can fill the missing values with mod."
      ],
      "metadata": {
        "id": "a4grq7ReYlJd"
      }
    },
    {
      "cell_type": "code",
      "source": [
        "x = df['Condition']\n",
        "print(x.value_counts(dropna=False))\n",
        "del x"
      ],
      "metadata": {
        "colab": {
          "base_uri": "https://localhost:8080/"
        },
        "id": "8YPyuRqiP2Fe",
        "outputId": "5d270150-3222-4c8d-d744-932c1e49018d"
      },
      "execution_count": null,
      "outputs": [
        {
          "output_type": "stream",
          "name": "stdout",
          "text": [
            "Accident check\\nNo issues reported       1154\n",
            "Accident check\\n1Accident reported        241\n",
            "Accident check\\n2Accidents reported        47\n",
            "Accident check\\n3Accidents reported         8\n",
            "NaN                                         6\n",
            "Accident check\\nFrame damage reported       2\n",
            "Accident check\\n4Accidents reported         2\n",
            "Name: Condition, dtype: int64\n"
          ]
        }
      ]
    },
    {
      "cell_type": "code",
      "source": [
        "df['Condition']\n",
        "df['Condition'].fillna('Accident check\\nNo issues reported',inplace=True)"
      ],
      "metadata": {
        "id": "eh2jx7y1cl1m"
      },
      "execution_count": null,
      "outputs": []
    },
    {
      "cell_type": "markdown",
      "source": [
        "##8/10 Usage Type\n",
        "\n",
        "We will replace the missing data by personal usage and Rental, Fleet and Taxi Usage as Commercial Usage."
      ],
      "metadata": {
        "id": "FqzoMhy-cZg8"
      }
    },
    {
      "cell_type": "code",
      "source": [
        "df['Usage Type'].value_counts(dropna=False)"
      ],
      "metadata": {
        "colab": {
          "base_uri": "https://localhost:8080/"
        },
        "id": "vjmQatdPkR6F",
        "outputId": "4f64906d-7510-442f-bf27-56f71de4e542"
      },
      "execution_count": null,
      "outputs": [
        {
          "output_type": "execute_result",
          "data": {
            "text/plain": [
              "NaN           1296\n",
              "Rental Use     110\n",
              "Fleet           53\n",
              "Taxi Use         1\n",
              "Name: Usage Type, dtype: int64"
            ]
          },
          "metadata": {},
          "execution_count": 101
        }
      ]
    },
    {
      "cell_type": "code",
      "source": [
        "df['Usage Type'].replace(np.NaN,'Personal',inplace=True)\n",
        "df['Usage Type'].replace(['Rental Use', 'Fleet','Taxi Use'],'Commercial',inplace=True)"
      ],
      "metadata": {
        "id": "v_IIAHkOnRQg"
      },
      "execution_count": null,
      "outputs": []
    },
    {
      "cell_type": "code",
      "source": [
        "df['Usage Type'].value_counts(dropna=False)"
      ],
      "metadata": {
        "colab": {
          "base_uri": "https://localhost:8080/"
        },
        "id": "lAfvienAUC8k",
        "outputId": "bfda09a4-4367-41a9-d19b-f50edab6fd2e"
      },
      "execution_count": null,
      "outputs": [
        {
          "output_type": "execute_result",
          "data": {
            "text/plain": [
              "Personal      1296\n",
              "Commercial     164\n",
              "Name: Usage Type, dtype: int64"
            ]
          },
          "metadata": {},
          "execution_count": 103
        }
      ]
    },
    {
      "cell_type": "markdown",
      "source": [
        "##9/10 'Owner#'\n",
        "Missing value 6\n",
        "\n",
        "We have only 6 missing value on that feature, \n",
        "⚓ Filling with mean is not a good idea beacuse data type is already categorical and mean is a float number.\n",
        "⚓ The mod is so close to the second and third mod we cant use this either.\n",
        "So i choose to drop these rows.\n",
        "\n"
      ],
      "metadata": {
        "id": "T9R34ER-np--"
      }
    },
    {
      "cell_type": "code",
      "source": [
        "print(df.shape)\n",
        "print(df['Owner#'].value_counts(dropna=False))\n",
        "df.dropna(subset=['Owner#'],axis='index',inplace=True)\n",
        "print(df.shape)"
      ],
      "metadata": {
        "colab": {
          "base_uri": "https://localhost:8080/"
        },
        "id": "QKzoW53yn-Jn",
        "outputId": "11bbc72f-8499-41ba-ae4d-fb2dea2bc443"
      },
      "execution_count": null,
      "outputs": [
        {
          "output_type": "stream",
          "name": "stdout",
          "text": [
            "(1460, 8)\n",
            "1.0    620\n",
            "2.0    546\n",
            "3.0    193\n",
            "4.0     71\n",
            "5.0     14\n",
            "6.0      7\n",
            "NaN      6\n",
            "8.0      3\n",
            "Name: Owner#, dtype: int64\n",
            "(1454, 8)\n"
          ]
        }
      ]
    },
    {
      "cell_type": "markdown",
      "source": [
        "##10/10 Location\n",
        "Missing Value 30\n",
        "Best bet is to drop them."
      ],
      "metadata": {
        "id": "Rl5PjYo4nwnS"
      }
    },
    {
      "cell_type": "code",
      "source": [
        "df.dropna(subset=['Location'],inplace=True)\n",
        "print(df.Location.value_counts(dropna=False))\n",
        "print(df.shape)"
      ],
      "metadata": {
        "id": "M9HDw9u-W17p",
        "colab": {
          "base_uri": "https://localhost:8080/"
        },
        "outputId": "affc324e-8f9d-42df-c09c-cca010154e96"
      },
      "execution_count": null,
      "outputs": [
        {
          "output_type": "stream",
          "name": "stdout",
          "text": [
            "CA    330\n",
            "FL     98\n",
            "VA     80\n",
            "TX     73\n",
            "WA     72\n",
            "NC     55\n",
            "IL     54\n",
            "OH     45\n",
            "GA     44\n",
            "MA     43\n",
            "OR     42\n",
            "CO     39\n",
            "PA     37\n",
            "IN     37\n",
            "NJ     30\n",
            "NY     29\n",
            "MO     28\n",
            "TN     27\n",
            "AZ     26\n",
            "MN     22\n",
            "MD     20\n",
            "CT     19\n",
            "WI     18\n",
            "SC     17\n",
            "MI     17\n",
            "UT     14\n",
            "NV     12\n",
            "KS     10\n",
            "NM     10\n",
            "IA      9\n",
            "OK      9\n",
            "HI      7\n",
            "AR      6\n",
            "MT      5\n",
            "KY      5\n",
            "NE      5\n",
            "ID      5\n",
            "NH      5\n",
            "AL      4\n",
            "LA      3\n",
            "RI      3\n",
            "WV      2\n",
            "MS      2\n",
            "ND      2\n",
            "WY      1\n",
            "ME      1\n",
            "VT      1\n",
            "SD      1\n",
            "Name: Location, dtype: int64\n",
            "(1424, 8)\n"
          ]
        }
      ]
    },
    {
      "cell_type": "code",
      "source": [
        "#Final Check\n",
        "print(df.count())\n",
        "df.isna().value_counts()"
      ],
      "metadata": {
        "colab": {
          "base_uri": "https://localhost:8080/"
        },
        "id": "10DgewytYmyk",
        "outputId": "f0507c17-4951-4232-d77e-966f0813aaeb"
      },
      "execution_count": null,
      "outputs": [
        {
          "output_type": "stream",
          "name": "stdout",
          "text": [
            "Years         1424\n",
            "Price         1424\n",
            "Model         1424\n",
            "Mileage       1424\n",
            "Condition     1424\n",
            "Usage Type    1424\n",
            "Owner#        1424\n",
            "Location      1424\n",
            "dtype: int64\n"
          ]
        },
        {
          "output_type": "execute_result",
          "data": {
            "text/plain": [
              "Years  Price  Model  Mileage  Condition  Usage Type  Owner#  Location\n",
              "False  False  False  False    False      False       False   False       1424\n",
              "dtype: int64"
            ]
          },
          "metadata": {},
          "execution_count": 106
        }
      ]
    },
    {
      "cell_type": "markdown",
      "source": [
        "#Defining the X and y variables"
      ],
      "metadata": {
        "id": "ONfCx6czPs7b"
      }
    },
    {
      "cell_type": "markdown",
      "source": [
        "#Feature Selection\n",
        "As x we include all features except vin. We will further investigate which feature contrıbute most to the price and we will continue with these features."
      ],
      "metadata": {
        "id": "cwgzHkDwkOsI"
      }
    },
    {
      "cell_type": "code",
      "source": [
        "X = df.iloc[:, [True, False, True, True, True, True, True, True,]]\n",
        "y = df.iloc[:,1:2]"
      ],
      "metadata": {
        "id": "BQvIE5z58LuD"
      },
      "execution_count": null,
      "outputs": []
    },
    {
      "cell_type": "markdown",
      "source": [
        "#Model Selection\n",
        "We have a good correlation with the numeric values. We can go on with the Linear Regression"
      ],
      "metadata": {
        "id": "AcW-Slce-azv"
      }
    },
    {
      "cell_type": "code",
      "source": [
        "print(df.corr())\n",
        "sns.heatmap(df.corr())"
      ],
      "metadata": {
        "colab": {
          "base_uri": "https://localhost:8080/",
          "height": 373
        },
        "id": "giDMYdhq-SY-",
        "outputId": "797339bd-e0ea-44da-87bf-954ecd8dc700"
      },
      "execution_count": null,
      "outputs": [
        {
          "output_type": "stream",
          "name": "stdout",
          "text": [
            "            Years     Price   Mileage    Owner#\n",
            "Years    1.000000  0.912172 -0.708542 -0.372673\n",
            "Price    0.912172  1.000000 -0.878824 -0.405664\n",
            "Mileage -0.708542 -0.878824  1.000000  0.373409\n",
            "Owner#  -0.372673 -0.405664  0.373409  1.000000\n"
          ]
        },
        {
          "output_type": "execute_result",
          "data": {
            "text/plain": [
              "<matplotlib.axes._subplots.AxesSubplot at 0x7f8235495dd0>"
            ]
          },
          "metadata": {},
          "execution_count": 108
        },
        {
          "output_type": "display_data",
          "data": {
            "image/png": "[encoded data removed]",
            "text/plain": [
              "<Figure size 432x288 with 2 Axes>"
            ]
          },
          "metadata": {
            "needs_background": "light"
          }
        }
      ]
    },
    {
      "cell_type": "markdown",
      "source": [
        "#Pair Plots"
      ],
      "metadata": {
        "id": "2kULkQcS-p8c"
      }
    },
    {
      "cell_type": "code",
      "source": [
        "df.head(2)"
      ],
      "metadata": {
        "colab": {
          "base_uri": "https://localhost:8080/",
          "height": 143
        },
        "id": "_NJybZAIVgdH",
        "outputId": "ce7cfc4c-97f0-49c0-c947-313c611817aa"
      },
      "execution_count": null,
      "outputs": [
        {
          "output_type": "execute_result",
          "data": {
            "text/html": [
              "\n",
              "  <div id=\"df-4a475f55-f6ef-4119-bf22-2606918fda6b\">\n",
              "    <div class=\"colab-df-container\">\n",
              "      <div>\n",
              "<style scoped>\n",
              "    .dataframe tbody tr th:only-of-type {\n",
              "        vertical-align: middle;\n",
              "    }\n",
              "\n",
              "    .dataframe tbody tr th {\n",
              "        vertical-align: top;\n",
              "    }\n",
              "\n",
              "    .dataframe thead th {\n",
              "        text-align: right;\n",
              "    }\n",
              "</style>\n",
              "<table border=\"1\" class=\"dataframe\">\n",
              "  <thead>\n",
              "    <tr style=\"text-align: right;\">\n",
              "      <th></th>\n",
              "      <th>Years</th>\n",
              "      <th>Price</th>\n",
              "      <th>Model</th>\n",
              "      <th>Mileage</th>\n",
              "      <th>Condition</th>\n",
              "      <th>Usage Type</th>\n",
              "      <th>Owner#</th>\n",
              "      <th>Location</th>\n",
              "    </tr>\n",
              "    <tr>\n",
              "      <th>#</th>\n",
              "      <th></th>\n",
              "      <th></th>\n",
              "      <th></th>\n",
              "      <th></th>\n",
              "      <th></th>\n",
              "      <th></th>\n",
              "      <th></th>\n",
              "      <th></th>\n",
              "    </tr>\n",
              "  </thead>\n",
              "  <tbody>\n",
              "    <tr>\n",
              "      <th>0</th>\n",
              "      <td>2018</td>\n",
              "      <td>27637</td>\n",
              "      <td>Prius Two FWD</td>\n",
              "      <td>29801</td>\n",
              "      <td>Accident check\\nNo issues reported</td>\n",
              "      <td>Personal</td>\n",
              "      <td>2.0</td>\n",
              "      <td>CA</td>\n",
              "    </tr>\n",
              "    <tr>\n",
              "      <th>1</th>\n",
              "      <td>2017</td>\n",
              "      <td>24500</td>\n",
              "      <td>Prius Two FWD</td>\n",
              "      <td>16565</td>\n",
              "      <td>Accident check\\nNo issues reported</td>\n",
              "      <td>Personal</td>\n",
              "      <td>1.0</td>\n",
              "      <td>CA</td>\n",
              "    </tr>\n",
              "  </tbody>\n",
              "</table>\n",
              "</div>\n",
              "      <button class=\"colab-df-convert\" onclick=\"convertToInteractive('df-4a475f55-f6ef-4119-bf22-2606918fda6b')\"\n",
              "              title=\"Convert this dataframe to an interactive table.\"\n",
              "              style=\"display:none;\">\n",
              "        \n",
              "  <svg xmlns=\"http://www.w3.org/2000/svg\" height=\"24px\"viewBox=\"0 0 24 24\"\n",
              "       width=\"24px\">\n",
              "    <path d=\"M0 0h24v24H0V0z\" fill=\"none\"/>\n",
              "    <path d=\"M18.56 5.44l.94 2.06.94-2.06 2.06-.94-2.06-.94-.94-2.06-.94 2.06-2.06.94zm-11 1L8.5 8.5l.94-2.06 2.06-.94-2.06-.94L8.5 2.5l-.94 2.06-2.06.94zm10 10l.94 2.06.94-2.06 2.06-.94-2.06-.94-.94-2.06-.94 2.06-2.06.94z\"/><path d=\"M17.41 7.96l-1.37-1.37c-.4-.4-.92-.59-1.43-.59-.52 0-1.04.2-1.43.59L10.3 9.45l-7.72 7.72c-.78.78-.78 2.05 0 2.83L4 21.41c.39.39.9.59 1.41.59.51 0 1.02-.2 1.41-.59l7.78-7.78 2.81-2.81c.8-.78.8-2.07 0-2.86zM5.41 20L4 18.59l7.72-7.72 1.47 1.35L5.41 20z\"/>\n",
              "  </svg>\n",
              "      </button>\n",
              "      \n",
              "  <style>\n",
              "    .colab-df-container {\n",
              "      display:flex;\n",
              "      flex-wrap:wrap;\n",
              "      gap: 12px;\n",
              "    }\n",
              "\n",
              "    .colab-df-convert {\n",
              "      background-color: #E8F0FE;\n",
              "      border: none;\n",
              "      border-radius: 50%;\n",
              "      cursor: pointer;\n",
              "      display: none;\n",
              "      fill: #1967D2;\n",
              "      height: 32px;\n",
              "      padding: 0 0 0 0;\n",
              "      width: 32px;\n",
              "    }\n",
              "\n",
              "    .colab-df-convert:hover {\n",
              "      background-color: #E2EBFA;\n",
              "      box-shadow: 0px 1px 2px rgba(60, 64, 67, 0.3), 0px 1px 3px 1px rgba(60, 64, 67, 0.15);\n",
              "      fill: #174EA6;\n",
              "    }\n",
              "\n",
              "    [theme=dark] .colab-df-convert {\n",
              "      background-color: #3B4455;\n",
              "      fill: #D2E3FC;\n",
              "    }\n",
              "\n",
              "    [theme=dark] .colab-df-convert:hover {\n",
              "      background-color: #434B5C;\n",
              "      box-shadow: 0px 1px 3px 1px rgba(0, 0, 0, 0.15);\n",
              "      filter: drop-shadow(0px 1px 2px rgba(0, 0, 0, 0.3));\n",
              "      fill: #FFFFFF;\n",
              "    }\n",
              "  </style>\n",
              "\n",
              "      <script>\n",
              "        const buttonEl =\n",
              "          document.querySelector('#df-4a475f55-f6ef-4119-bf22-2606918fda6b button.colab-df-convert');\n",
              "        buttonEl.style.display =\n",
              "          google.colab.kernel.accessAllowed ? 'block' : 'none';\n",
              "\n",
              "        async function convertToInteractive(key) {\n",
              "          const element = document.querySelector('#df-4a475f55-f6ef-4119-bf22-2606918fda6b');\n",
              "          const dataTable =\n",
              "            await google.colab.kernel.invokeFunction('convertToInteractive',\n",
              "                                                     [key], {});\n",
              "          if (!dataTable) return;\n",
              "\n",
              "          const docLinkHtml = 'Like what you see? Visit the ' +\n",
              "            '<a target=\"_blank\" href=https://colab.research.google.com/notebooks/data_table.ipynb>data table notebook</a>'\n",
              "            + ' to learn more about interactive tables.';\n",
              "          element.innerHTML = '';\n",
              "          dataTable['output_type'] = 'display_data';\n",
              "          await google.colab.output.renderOutput(dataTable, element);\n",
              "          const docLink = document.createElement('div');\n",
              "          docLink.innerHTML = docLinkHtml;\n",
              "          element.appendChild(docLink);\n",
              "        }\n",
              "      </script>\n",
              "    </div>\n",
              "  </div>\n",
              "  "
            ],
            "text/plain": [
              "   Years  Price          Model  ...  Usage Type Owner# Location\n",
              "#                               ...                            \n",
              "0   2018  27637  Prius Two FWD  ...    Personal    2.0       CA\n",
              "1   2017  24500  Prius Two FWD  ...    Personal    1.0       CA\n",
              "\n",
              "[2 rows x 8 columns]"
            ]
          },
          "metadata": {},
          "execution_count": 109
        }
      ]
    },
    {
      "cell_type": "code",
      "source": [
        "sns.pairplot(df,hue='Condition')"
      ],
      "metadata": {
        "colab": {
          "base_uri": "https://localhost:8080/",
          "height": 744
        },
        "id": "VkwXmW2E-s3O",
        "outputId": "40983a8a-a0d4-4bbc-edd3-7566ec23f596"
      },
      "execution_count": null,
      "outputs": [
        {
          "output_type": "execute_result",
          "data": {
            "text/plain": [
              "<seaborn.axisgrid.PairGrid at 0x7f823541e9d0>"
            ]
          },
          "metadata": {},
          "execution_count": 110
        },
        {
          "output_type": "display_data",
          "data": {
            "image/png": "[encoded data removed]",
            "text/plain": [
              "<Figure size 876.75x720 with 20 Axes>"
            ]
          },
          "metadata": {
            "needs_background": "light"
          }
        }
      ]
    },
    {
      "cell_type": "code",
      "source": [
        ""
      ],
      "metadata": {
        "id": "27stv_5yL-1l"
      },
      "execution_count": null,
      "outputs": []
    },
    {
      "cell_type": "markdown",
      "source": [
        "#Feature Modifying,Scaling,Encoding, and predicting with Linear Regression\n"
      ],
      "metadata": {
        "id": "stIRgWm1lnh5"
      }
    },
    {
      "cell_type": "markdown",
      "source": [
        "#Linear Regression"
      ],
      "metadata": {
        "id": "nnts32YdRJzH"
      }
    },
    {
      "cell_type": "code",
      "source": [
        "from sklearn.model_selection import GridSearchCV\n",
        "from sklearn import svm, datasets\n",
        "from sklearn.svm import SVR\n",
        "from sklearn.tree import DecisionTreeRegressor\n",
        "from sklearn.ensemble import RandomForestRegressor\n",
        "\n",
        "param_grid = dict(reduce_dim__n_components=[2, 5, 10],\n",
        "                  clf__C=[0.1, 10, 100])\n",
        "grid_search = GridSearchCV(pipe, param_grid=param_grid)\n",
        "\n",
        "\n",
        "\n",
        "score = []\n",
        "numeric_features = [\"Years\", \"Mileage\",\"Owner#\"]\n",
        "numeric_transformer = Pipeline(\n",
        "    steps=[(\"imputer\", SimpleImputer(strategy=\"median\")), (\"scaler\", StandardScaler())]\n",
        ")\n",
        "\n",
        "categorical_features = [\"Model\", \"Condition\", \"Usage Type\" ,\"Location\"]\n",
        "categorical_transformer = OneHotEncoder(handle_unknown=\"ignore\")\n",
        "\n",
        "preprocessor = ColumnTransformer(\n",
        "    transformers=[\n",
        "        (\"num\", numeric_transformer, numeric_features),\n",
        "        (\"cat\", categorical_transformer, categorical_features),\n",
        "    ]\n",
        ")\n",
        "# Append classifier to preprocessing pipeline.\n",
        "# Now we have a full prediction pipeline.\n",
        "clf = Pipeline(\n",
        "    steps=[(\"preprocessor\", preprocessor), (\"classifier\", LinearRegression())]\n",
        ")\n",
        "\n",
        "X_train, X_test, y_train, y_test = train_test_split(X, y, test_size=0.2, random_state=0)\n",
        "\n",
        "clf.fit(X_train, y_train)\n",
        "print(\"model score: %.3f\" % clf.score(X_test, y_test))\n",
        "score.append(\"Linear Regression score is\" + str(round(clf.score(X_test,y_test),3)))\n",
        "\n",
        "\n",
        "from sklearn.model_selection import GridSearchCV\n",
        "param_grid = dict(reduce_dim__n_components=[2, 5, 10], clf__C=[0.1, 10, 100])\n",
        "grid_search = GridSearchCV(clf, param_grid=param_grid)\n",
        "grid_search"
      ],
      "metadata": {
        "id": "XWB-RsF86eoq"
      },
      "execution_count": null,
      "outputs": []
    },
    {
      "cell_type": "code",
      "source": [
        "from sklearn import svm, datasets\n",
        "from sklearn.model_selection import GridSearchCV\n",
        "iris = datasets.load_iris()\n",
        "parameters = {'kernel':('linear', 'rbf'), 'C':[1, 10]}\n",
        "svc = svm.SVC()\n",
        "clf = GridSearchCV(svc, parameters)\n",
        "clf.fit(iris.data, iris.target)\n",
        "\n",
        "\n",
        "print(clf.cv_results_.keys())\n",
        "clf.cv_results_"
      ],
      "metadata": {
        "colab": {
          "base_uri": "https://localhost:8080/"
        },
        "id": "nDIho_s6lF_I",
        "outputId": "80d6d80f-8e0b-412b-977c-2a2e3dcee7ed"
      },
      "execution_count": null,
      "outputs": [
        {
          "output_type": "stream",
          "name": "stdout",
          "text": [
            "dict_keys(['mean_fit_time', 'std_fit_time', 'mean_score_time', 'std_score_time', 'param_C', 'param_kernel', 'params', 'split0_test_score', 'split1_test_score', 'split2_test_score', 'split3_test_score', 'split4_test_score', 'mean_test_score', 'std_test_score', 'rank_test_score'])\n"
          ]
        },
        {
          "output_type": "execute_result",
          "data": {
            "text/plain": [
              "{'mean_fit_time': array([0.00099602, 0.00100703, 0.00091443, 0.00089254]),\n",
              " 'mean_score_time': array([0.00047703, 0.00057182, 0.00051861, 0.00046797]),\n",
              " 'mean_test_score': array([0.98      , 0.96666667, 0.97333333, 0.98      ]),\n",
              " 'param_C': masked_array(data=[1, 1, 10, 10],\n",
              "              mask=[False, False, False, False],\n",
              "        fill_value='?',\n",
              "             dtype=object),\n",
              " 'param_kernel': masked_array(data=['linear', 'rbf', 'linear', 'rbf'],\n",
              "              mask=[False, False, False, False],\n",
              "        fill_value='?',\n",
              "             dtype=object),\n",
              " 'params': [{'C': 1, 'kernel': 'linear'},\n",
              "  {'C': 1, 'kernel': 'rbf'},\n",
              "  {'C': 10, 'kernel': 'linear'},\n",
              "  {'C': 10, 'kernel': 'rbf'}],\n",
              " 'rank_test_score': array([1, 4, 3, 1], dtype=int32),\n",
              " 'split0_test_score': array([0.96666667, 0.96666667, 1.        , 0.96666667]),\n",
              " 'split1_test_score': array([1.        , 0.96666667, 1.        , 1.        ]),\n",
              " 'split2_test_score': array([0.96666667, 0.96666667, 0.9       , 0.96666667]),\n",
              " 'split3_test_score': array([0.96666667, 0.93333333, 0.96666667, 0.96666667]),\n",
              " 'split4_test_score': array([1., 1., 1., 1.]),\n",
              " 'std_fit_time': array([3.91904875e-04, 1.84070261e-05, 1.32049339e-04, 1.67352860e-05]),\n",
              " 'std_score_time': array([8.70103566e-05, 7.56047231e-05, 1.69976723e-04, 1.59333551e-05]),\n",
              " 'std_test_score': array([0.01632993, 0.02108185, 0.03887301, 0.01632993])}"
            ]
          },
          "metadata": {},
          "execution_count": 112
        }
      ]
    },
    {
      "cell_type": "markdown",
      "source": [
        "##Support Vector Regressor"
      ],
      "metadata": {
        "id": "SdS-Y3NeAD2B"
      }
    },
    {
      "cell_type": "code",
      "source": [
        "from sklearn.svm import SVR\n",
        "numeric_features = [\"Years\", \"Mileage\",\"Owner#\"]\n",
        "numeric_transformer = Pipeline(\n",
        "    steps=[(\"imputer\", SimpleImputer(strategy=\"median\")), (\"scaler\", StandardScaler())]\n",
        ")\n",
        "\n",
        "categorical_features = [\"Model\", \"Condition\", \"Usage Type\" ,\"Location\"]\n",
        "categorical_transformer = OneHotEncoder(handle_unknown=\"ignore\")\n",
        "\n",
        "preprocessor = ColumnTransformer(\n",
        "    transformers=[\n",
        "        (\"num\", numeric_transformer, numeric_features),\n",
        "        (\"cat\", categorical_transformer, categorical_features),\n",
        "    ]\n",
        ")\n",
        "\n",
        "# Append classifier to preprocessing pipeline.\n",
        "# Now we have a full prediction pipeline.\n",
        "clf = Pipeline(\n",
        "    steps=[(\"preprocessor\", preprocessor), (\"classifier\", SVR())]\n",
        ")\n",
        "\n",
        "X_train, X_test, y_train, y_test = train_test_split(X, y, test_size=0.2, random_state=0)\n",
        "\n",
        "clf.fit(X_train, y_train)\n",
        "print(\"model score: %.3f\" % clf.score(X_test, y_test))\n",
        "score.append(\"SVR Score is\" + str(round(clf.score(X_test,y_test),3)))\n"
      ],
      "metadata": {
        "id": "3yY9btfg_28f",
        "colab": {
          "base_uri": "https://localhost:8080/"
        },
        "outputId": "cac550f2-eb75-4f79-b99d-f3e59fe1d2ab"
      },
      "execution_count": null,
      "outputs": [
        {
          "output_type": "stream",
          "name": "stdout",
          "text": [
            "model score: -0.050\n"
          ]
        },
        {
          "output_type": "stream",
          "name": "stderr",
          "text": [
            "/usr/local/lib/python3.7/dist-packages/sklearn/utils/validation.py:985: DataConversionWarning: A column-vector y was passed when a 1d array was expected. Please change the shape of y to (n_samples, ), for example using ravel().\n",
            "  y = column_or_1d(y, warn=True)\n"
          ]
        }
      ]
    },
    {
      "cell_type": "markdown",
      "source": [
        "##DEcision Tree Regressor"
      ],
      "metadata": {
        "id": "1JrRDOljRWpT"
      }
    },
    {
      "cell_type": "code",
      "source": [
        "from sklearn.tree import DecisionTreeRegressor\n",
        "numeric_features = [\"Years\", \"Mileage\",\"Owner#\"]\n",
        "numeric_transformer = Pipeline(\n",
        "    steps=[(\"imputer\", SimpleImputer(strategy=\"median\")), (\"scaler\", StandardScaler())]\n",
        ")\n",
        "\n",
        "categorical_features = [\"Model\", \"Condition\", \"Usage Type\" ,\"Location\"]\n",
        "categorical_transformer = OneHotEncoder(handle_unknown=\"ignore\")\n",
        "\n",
        "preprocessor = ColumnTransformer(\n",
        "    transformers=[\n",
        "        (\"num\", numeric_transformer, numeric_features),\n",
        "        (\"cat\", categorical_transformer, categorical_features),\n",
        "    ]\n",
        ")\n",
        "\n",
        "# Append classifier to preprocessing pipeline.\n",
        "# Now we have a full prediction pipeline.\n",
        "clf = Pipeline(\n",
        "    steps=[(\"preprocessor\", preprocessor), (\"classifier\", DecisionTreeRegressor())]\n",
        ")\n",
        "\n",
        "X_train, X_test, y_train, y_test = train_test_split(X, y, test_size=0.2, random_state=0)\n",
        "\n",
        "clf.fit(X_train, y_train)\n",
        "print(\"model score: %.3f\" % clf.score(X_test, y_test))\n",
        "score.append(\"Decision Tree Regressor Score is\" + str(round(clf.score(X_test,y_test),3)))\n"
      ],
      "metadata": {
        "colab": {
          "base_uri": "https://localhost:8080/"
        },
        "id": "fdHNhcqgRbjA",
        "outputId": "c6f174a2-5029-4d71-b15b-5ca393d0cbc4"
      },
      "execution_count": null,
      "outputs": [
        {
          "output_type": "stream",
          "name": "stdout",
          "text": [
            "model score: 0.953\n"
          ]
        }
      ]
    },
    {
      "cell_type": "markdown",
      "source": [
        "## Random Forest Regressor"
      ],
      "metadata": {
        "id": "LE3hpTERSFwI"
      }
    },
    {
      "cell_type": "code",
      "source": [
        "from sklearn.ensemble import RandomForestRegressor\n",
        "numeric_features = [\"Years\", \"Mileage\",\"Owner#\"]\n",
        "numeric_transformer = Pipeline(\n",
        "    steps=[(\"imputer\", SimpleImputer(strategy=\"median\")), (\"scaler\", StandardScaler())]\n",
        ")\n",
        "\n",
        "categorical_features = [\"Model\", \"Condition\", \"Usage Type\" ,\"Location\"]\n",
        "categorical_transformer = OneHotEncoder(handle_unknown=\"ignore\")\n",
        "\n",
        "preprocessor = ColumnTransformer(\n",
        "    transformers=[\n",
        "        (\"num\", numeric_transformer, numeric_features),\n",
        "        (\"cat\", categorical_transformer, categorical_features),\n",
        "    ]\n",
        ")\n",
        "\n",
        "# Append classifier to preprocessing pipeline.\n",
        "# Now we have a full prediction pipeline.\n",
        "clf = Pipeline(\n",
        "    steps=[(\"preprocessor\", preprocessor), (\"classifier\", RandomForestRegressor())]\n",
        ")\n",
        "clf.steps[1]\n",
        "X_train, X_test, y_train, y_test = train_test_split(X, y, test_size=0.2, random_state=0)\n",
        "\n",
        "clf.fit(X_train, y_train)\n",
        "print(\"model score: %.3f\" % clf.score(X_test, y_test))\n",
        "score.append(\"RandomForestRegressor Score is \" + str(round(clf.score(X_test,y_test),3)))\n",
        "score"
      ],
      "metadata": {
        "colab": {
          "base_uri": "https://localhost:8080/"
        },
        "id": "FmerD4GIQhdr",
        "outputId": "82c9a505-773e-4efc-d884-fb7cf656dfc5"
      },
      "execution_count": null,
      "outputs": [
        {
          "output_type": "stream",
          "name": "stderr",
          "text": [
            "/usr/local/lib/python3.7/dist-packages/sklearn/pipeline.py:394: DataConversionWarning: A column-vector y was passed when a 1d array was expected. Please change the shape of y to (n_samples,), for example using ravel().\n",
            "  self._final_estimator.fit(Xt, y, **fit_params_last_step)\n"
          ]
        },
        {
          "output_type": "stream",
          "name": "stdout",
          "text": [
            "model score: 0.968\n"
          ]
        },
        {
          "output_type": "execute_result",
          "data": {
            "text/plain": [
              "['Linear Regression score is0.961',\n",
              " 'SVR Score is-0.05',\n",
              " 'Decision Tree Regressor Score is0.953',\n",
              " 'RandomForestRegressor Score is 0.968']"
            ]
          },
          "metadata": {},
          "execution_count": 115
        }
      ]
    },
    {
      "cell_type": "code",
      "source": [
        "clf.n_features_in_\n",
        "clf.named_steps\n"
      ],
      "metadata": {
        "colab": {
          "base_uri": "https://localhost:8080/"
        },
        "id": "udDfmydIeOoq",
        "outputId": "a8b8e273-bc00-4607-94d3-cbf42aac654a"
      },
      "execution_count": null,
      "outputs": [
        {
          "output_type": "execute_result",
          "data": {
            "text/plain": [
              "{'classifier': RandomForestRegressor(),\n",
              " 'preprocessor': ColumnTransformer(transformers=[('num',\n",
              "                                  Pipeline(steps=[('imputer',\n",
              "                                                   SimpleImputer(strategy='median')),\n",
              "                                                  ('scaler', StandardScaler())]),\n",
              "                                  ['Years', 'Mileage', 'Owner#']),\n",
              "                                 ('cat', OneHotEncoder(handle_unknown='ignore'),\n",
              "                                  ['Model', 'Condition', 'Usage Type',\n",
              "                                   'Location'])])}"
            ]
          },
          "metadata": {},
          "execution_count": 116
        }
      ]
    },
    {
      "cell_type": "markdown",
      "source": [
        ""
      ],
      "metadata": {
        "id": "T0UYKsW9TDzK"
      }
    },
    {
      "cell_type": "markdown",
      "source": [
        "#Predicting the future"
      ],
      "metadata": {
        "id": "vKNAfHeZ_epo"
      }
    },
    {
      "cell_type": "code",
      "source": [
        "#input data format must be as follows\n",
        "X.iloc[:1,:]"
      ],
      "metadata": {
        "id": "ZEIVjnak_K1b",
        "colab": {
          "base_uri": "https://localhost:8080/",
          "height": 112
        },
        "outputId": "c724d174-bcde-4b68-91ac-02cddb83acfb"
      },
      "execution_count": null,
      "outputs": [
        {
          "output_type": "execute_result",
          "data": {
            "text/html": [
              "\n",
              "  <div id=\"df-d1e70f3e-9029-46c7-a534-1f295d5be09f\">\n",
              "    <div class=\"colab-df-container\">\n",
              "      <div>\n",
              "<style scoped>\n",
              "    .dataframe tbody tr th:only-of-type {\n",
              "        vertical-align: middle;\n",
              "    }\n",
              "\n",
              "    .dataframe tbody tr th {\n",
              "        vertical-align: top;\n",
              "    }\n",
              "\n",
              "    .dataframe thead th {\n",
              "        text-align: right;\n",
              "    }\n",
              "</style>\n",
              "<table border=\"1\" class=\"dataframe\">\n",
              "  <thead>\n",
              "    <tr style=\"text-align: right;\">\n",
              "      <th></th>\n",
              "      <th>Years</th>\n",
              "      <th>Model</th>\n",
              "      <th>Mileage</th>\n",
              "      <th>Condition</th>\n",
              "      <th>Usage Type</th>\n",
              "      <th>Owner#</th>\n",
              "      <th>Location</th>\n",
              "    </tr>\n",
              "    <tr>\n",
              "      <th>#</th>\n",
              "      <th></th>\n",
              "      <th></th>\n",
              "      <th></th>\n",
              "      <th></th>\n",
              "      <th></th>\n",
              "      <th></th>\n",
              "      <th></th>\n",
              "    </tr>\n",
              "  </thead>\n",
              "  <tbody>\n",
              "    <tr>\n",
              "      <th>0</th>\n",
              "      <td>2018</td>\n",
              "      <td>Prius Two FWD</td>\n",
              "      <td>29801</td>\n",
              "      <td>Accident check\\nNo issues reported</td>\n",
              "      <td>Personal</td>\n",
              "      <td>2.0</td>\n",
              "      <td>CA</td>\n",
              "    </tr>\n",
              "  </tbody>\n",
              "</table>\n",
              "</div>\n",
              "      <button class=\"colab-df-convert\" onclick=\"convertToInteractive('df-d1e70f3e-9029-46c7-a534-1f295d5be09f')\"\n",
              "              title=\"Convert this dataframe to an interactive table.\"\n",
              "              style=\"display:none;\">\n",
              "        \n",
              "  <svg xmlns=\"http://www.w3.org/2000/svg\" height=\"24px\"viewBox=\"0 0 24 24\"\n",
              "       width=\"24px\">\n",
              "    <path d=\"M0 0h24v24H0V0z\" fill=\"none\"/>\n",
              "    <path d=\"M18.56 5.44l.94 2.06.94-2.06 2.06-.94-2.06-.94-.94-2.06-.94 2.06-2.06.94zm-11 1L8.5 8.5l.94-2.06 2.06-.94-2.06-.94L8.5 2.5l-.94 2.06-2.06.94zm10 10l.94 2.06.94-2.06 2.06-.94-2.06-.94-.94-2.06-.94 2.06-2.06.94z\"/><path d=\"M17.41 7.96l-1.37-1.37c-.4-.4-.92-.59-1.43-.59-.52 0-1.04.2-1.43.59L10.3 9.45l-7.72 7.72c-.78.78-.78 2.05 0 2.83L4 21.41c.39.39.9.59 1.41.59.51 0 1.02-.2 1.41-.59l7.78-7.78 2.81-2.81c.8-.78.8-2.07 0-2.86zM5.41 20L4 18.59l7.72-7.72 1.47 1.35L5.41 20z\"/>\n",
              "  </svg>\n",
              "      </button>\n",
              "      \n",
              "  <style>\n",
              "    .colab-df-container {\n",
              "      display:flex;\n",
              "      flex-wrap:wrap;\n",
              "      gap: 12px;\n",
              "    }\n",
              "\n",
              "    .colab-df-convert {\n",
              "      background-color: #E8F0FE;\n",
              "      border: none;\n",
              "      border-radius: 50%;\n",
              "      cursor: pointer;\n",
              "      display: none;\n",
              "      fill: #1967D2;\n",
              "      height: 32px;\n",
              "      padding: 0 0 0 0;\n",
              "      width: 32px;\n",
              "    }\n",
              "\n",
              "    .colab-df-convert:hover {\n",
              "      background-color: #E2EBFA;\n",
              "      box-shadow: 0px 1px 2px rgba(60, 64, 67, 0.3), 0px 1px 3px 1px rgba(60, 64, 67, 0.15);\n",
              "      fill: #174EA6;\n",
              "    }\n",
              "\n",
              "    [theme=dark] .colab-df-convert {\n",
              "      background-color: #3B4455;\n",
              "      fill: #D2E3FC;\n",
              "    }\n",
              "\n",
              "    [theme=dark] .colab-df-convert:hover {\n",
              "      background-color: #434B5C;\n",
              "      box-shadow: 0px 1px 3px 1px rgba(0, 0, 0, 0.15);\n",
              "      filter: drop-shadow(0px 1px 2px rgba(0, 0, 0, 0.3));\n",
              "      fill: #FFFFFF;\n",
              "    }\n",
              "  </style>\n",
              "\n",
              "      <script>\n",
              "        const buttonEl =\n",
              "          document.querySelector('#df-d1e70f3e-9029-46c7-a534-1f295d5be09f button.colab-df-convert');\n",
              "        buttonEl.style.display =\n",
              "          google.colab.kernel.accessAllowed ? 'block' : 'none';\n",
              "\n",
              "        async function convertToInteractive(key) {\n",
              "          const element = document.querySelector('#df-d1e70f3e-9029-46c7-a534-1f295d5be09f');\n",
              "          const dataTable =\n",
              "            await google.colab.kernel.invokeFunction('convertToInteractive',\n",
              "                                                     [key], {});\n",
              "          if (!dataTable) return;\n",
              "\n",
              "          const docLinkHtml = 'Like what you see? Visit the ' +\n",
              "            '<a target=\"_blank\" href=https://colab.research.google.com/notebooks/data_table.ipynb>data table notebook</a>'\n",
              "            + ' to learn more about interactive tables.';\n",
              "          element.innerHTML = '';\n",
              "          dataTable['output_type'] = 'display_data';\n",
              "          await google.colab.output.renderOutput(dataTable, element);\n",
              "          const docLink = document.createElement('div');\n",
              "          docLink.innerHTML = docLinkHtml;\n",
              "          element.appendChild(docLink);\n",
              "        }\n",
              "      </script>\n",
              "    </div>\n",
              "  </div>\n",
              "  "
            ],
            "text/plain": [
              "   Years          Model  Mileage  ... Usage Type Owner#  Location\n",
              "#                                 ...                            \n",
              "0   2018  Prius Two FWD    29801  ...   Personal    2.0        CA\n",
              "\n",
              "[1 rows x 7 columns]"
            ]
          },
          "metadata": {},
          "execution_count": 117
        }
      ]
    },
    {
      "cell_type": "code",
      "source": [
        "#Real Data\n",
        "y.iloc[:1,:]"
      ],
      "metadata": {
        "id": "onsGaz7R_WQu",
        "colab": {
          "base_uri": "https://localhost:8080/",
          "height": 112
        },
        "outputId": "e253bd98-4a85-4c54-97bd-c46d582b20a0"
      },
      "execution_count": null,
      "outputs": [
        {
          "output_type": "execute_result",
          "data": {
            "text/html": [
              "\n",
              "  <div id=\"df-43a1109f-17fa-4b59-9cb5-1c5c8be49f32\">\n",
              "    <div class=\"colab-df-container\">\n",
              "      <div>\n",
              "<style scoped>\n",
              "    .dataframe tbody tr th:only-of-type {\n",
              "        vertical-align: middle;\n",
              "    }\n",
              "\n",
              "    .dataframe tbody tr th {\n",
              "        vertical-align: top;\n",
              "    }\n",
              "\n",
              "    .dataframe thead th {\n",
              "        text-align: right;\n",
              "    }\n",
              "</style>\n",
              "<table border=\"1\" class=\"dataframe\">\n",
              "  <thead>\n",
              "    <tr style=\"text-align: right;\">\n",
              "      <th></th>\n",
              "      <th>Price</th>\n",
              "    </tr>\n",
              "    <tr>\n",
              "      <th>#</th>\n",
              "      <th></th>\n",
              "    </tr>\n",
              "  </thead>\n",
              "  <tbody>\n",
              "    <tr>\n",
              "      <th>0</th>\n",
              "      <td>27637</td>\n",
              "    </tr>\n",
              "  </tbody>\n",
              "</table>\n",
              "</div>\n",
              "      <button class=\"colab-df-convert\" onclick=\"convertToInteractive('df-43a1109f-17fa-4b59-9cb5-1c5c8be49f32')\"\n",
              "              title=\"Convert this dataframe to an interactive table.\"\n",
              "              style=\"display:none;\">\n",
              "        \n",
              "  <svg xmlns=\"http://www.w3.org/2000/svg\" height=\"24px\"viewBox=\"0 0 24 24\"\n",
              "       width=\"24px\">\n",
              "    <path d=\"M0 0h24v24H0V0z\" fill=\"none\"/>\n",
              "    <path d=\"M18.56 5.44l.94 2.06.94-2.06 2.06-.94-2.06-.94-.94-2.06-.94 2.06-2.06.94zm-11 1L8.5 8.5l.94-2.06 2.06-.94-2.06-.94L8.5 2.5l-.94 2.06-2.06.94zm10 10l.94 2.06.94-2.06 2.06-.94-2.06-.94-.94-2.06-.94 2.06-2.06.94z\"/><path d=\"M17.41 7.96l-1.37-1.37c-.4-.4-.92-.59-1.43-.59-.52 0-1.04.2-1.43.59L10.3 9.45l-7.72 7.72c-.78.78-.78 2.05 0 2.83L4 21.41c.39.39.9.59 1.41.59.51 0 1.02-.2 1.41-.59l7.78-7.78 2.81-2.81c.8-.78.8-2.07 0-2.86zM5.41 20L4 18.59l7.72-7.72 1.47 1.35L5.41 20z\"/>\n",
              "  </svg>\n",
              "      </button>\n",
              "      \n",
              "  <style>\n",
              "    .colab-df-container {\n",
              "      display:flex;\n",
              "      flex-wrap:wrap;\n",
              "      gap: 12px;\n",
              "    }\n",
              "\n",
              "    .colab-df-convert {\n",
              "      background-color: #E8F0FE;\n",
              "      border: none;\n",
              "      border-radius: 50%;\n",
              "      cursor: pointer;\n",
              "      display: none;\n",
              "      fill: #1967D2;\n",
              "      height: 32px;\n",
              "      padding: 0 0 0 0;\n",
              "      width: 32px;\n",
              "    }\n",
              "\n",
              "    .colab-df-convert:hover {\n",
              "      background-color: #E2EBFA;\n",
              "      box-shadow: 0px 1px 2px rgba(60, 64, 67, 0.3), 0px 1px 3px 1px rgba(60, 64, 67, 0.15);\n",
              "      fill: #174EA6;\n",
              "    }\n",
              "\n",
              "    [theme=dark] .colab-df-convert {\n",
              "      background-color: #3B4455;\n",
              "      fill: #D2E3FC;\n",
              "    }\n",
              "\n",
              "    [theme=dark] .colab-df-convert:hover {\n",
              "      background-color: #434B5C;\n",
              "      box-shadow: 0px 1px 3px 1px rgba(0, 0, 0, 0.15);\n",
              "      filter: drop-shadow(0px 1px 2px rgba(0, 0, 0, 0.3));\n",
              "      fill: #FFFFFF;\n",
              "    }\n",
              "  </style>\n",
              "\n",
              "      <script>\n",
              "        const buttonEl =\n",
              "          document.querySelector('#df-43a1109f-17fa-4b59-9cb5-1c5c8be49f32 button.colab-df-convert');\n",
              "        buttonEl.style.display =\n",
              "          google.colab.kernel.accessAllowed ? 'block' : 'none';\n",
              "\n",
              "        async function convertToInteractive(key) {\n",
              "          const element = document.querySelector('#df-43a1109f-17fa-4b59-9cb5-1c5c8be49f32');\n",
              "          const dataTable =\n",
              "            await google.colab.kernel.invokeFunction('convertToInteractive',\n",
              "                                                     [key], {});\n",
              "          if (!dataTable) return;\n",
              "\n",
              "          const docLinkHtml = 'Like what you see? Visit the ' +\n",
              "            '<a target=\"_blank\" href=https://colab.research.google.com/notebooks/data_table.ipynb>data table notebook</a>'\n",
              "            + ' to learn more about interactive tables.';\n",
              "          element.innerHTML = '';\n",
              "          dataTable['output_type'] = 'display_data';\n",
              "          await google.colab.output.renderOutput(dataTable, element);\n",
              "          const docLink = document.createElement('div');\n",
              "          docLink.innerHTML = docLinkHtml;\n",
              "          element.appendChild(docLink);\n",
              "        }\n",
              "      </script>\n",
              "    </div>\n",
              "  </div>\n",
              "  "
            ],
            "text/plain": [
              "   Price\n",
              "#       \n",
              "0  27637"
            ]
          },
          "metadata": {},
          "execution_count": 118
        }
      ]
    },
    {
      "cell_type": "code",
      "source": [
        "#Predicted result\n",
        "clf.predict(X)"
      ],
      "metadata": {
        "id": "Yh5BpYwO_H9e",
        "colab": {
          "base_uri": "https://localhost:8080/"
        },
        "outputId": "0e9fbc95-f6e3-4d48-dee8-856ecbe52480"
      },
      "execution_count": null,
      "outputs": [
        {
          "output_type": "execute_result",
          "data": {
            "text/plain": [
              "array([27316.02, 26020.11, 11389.09, ..., 27411.34,  7466.19,  9838.65])"
            ]
          },
          "metadata": {},
          "execution_count": 119
        }
      ]
    },
    {
      "cell_type": "code",
      "source": [
        "X.columns"
      ],
      "metadata": {
        "id": "SD2_70T5cqI_",
        "colab": {
          "base_uri": "https://localhost:8080/"
        },
        "outputId": "3c2b3837-06f9-48a2-8212-205fff0ed057"
      },
      "execution_count": null,
      "outputs": [
        {
          "output_type": "execute_result",
          "data": {
            "text/plain": [
              "Index(['Years', 'Model', 'Mileage', 'Condition', 'Usage Type', 'Owner#',\n",
              "       'Location'],\n",
              "      dtype='object')"
            ]
          },
          "metadata": {},
          "execution_count": 120
        }
      ]
    }
  ]
}